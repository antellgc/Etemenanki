{
 "cells": [
  {
   "cell_type": "markdown",
   "metadata": {},
   "source": [
    "# Bible Reader\n",
    "This notebook reads in bible verses from the the King James Bible, accessed via Kaggle datasets. "
   ]
  },
  {
   "cell_type": "markdown",
   "metadata": {},
   "source": [
    "# Import requirements"
   ]
  },
  {
   "cell_type": "code",
   "execution_count": 1,
   "metadata": {
    "collapsed": true
   },
   "outputs": [],
   "source": [
    "import pandas as pd\n",
    "import numpy as np\n",
    "import matplotlib.pyplot as plt\n",
    "%matplotlib inline"
   ]
  },
  {
   "cell_type": "markdown",
   "metadata": {},
   "source": [
    "# Read in Bible data"
   ]
  },
  {
   "cell_type": "code",
   "execution_count": 2,
   "metadata": {},
   "outputs": [
    {
     "data": {
      "text/html": [
       "<div>\n",
       "<style>\n",
       "    .dataframe thead tr:only-child th {\n",
       "        text-align: right;\n",
       "    }\n",
       "\n",
       "    .dataframe thead th {\n",
       "        text-align: left;\n",
       "    }\n",
       "\n",
       "    .dataframe tbody tr th {\n",
       "        vertical-align: top;\n",
       "    }\n",
       "</style>\n",
       "<table border=\"1\" class=\"dataframe\">\n",
       "  <thead>\n",
       "    <tr style=\"text-align: right;\">\n",
       "      <th></th>\n",
       "      <th>citation</th>\n",
       "      <th>book</th>\n",
       "      <th>chapter</th>\n",
       "      <th>verse</th>\n",
       "      <th>text</th>\n",
       "    </tr>\n",
       "  </thead>\n",
       "  <tbody>\n",
       "    <tr>\n",
       "      <th>0</th>\n",
       "      <td>Genesis 1:1</td>\n",
       "      <td>Genesis</td>\n",
       "      <td>1</td>\n",
       "      <td>1</td>\n",
       "      <td>In the beginning God created the heaven and th...</td>\n",
       "    </tr>\n",
       "    <tr>\n",
       "      <th>1</th>\n",
       "      <td>Genesis 1:2</td>\n",
       "      <td>Genesis</td>\n",
       "      <td>1</td>\n",
       "      <td>2</td>\n",
       "      <td>And the earth was without form, and void; and ...</td>\n",
       "    </tr>\n",
       "    <tr>\n",
       "      <th>2</th>\n",
       "      <td>Genesis 1:3</td>\n",
       "      <td>Genesis</td>\n",
       "      <td>1</td>\n",
       "      <td>3</td>\n",
       "      <td>And God said, Let there be light: and there wa...</td>\n",
       "    </tr>\n",
       "    <tr>\n",
       "      <th>3</th>\n",
       "      <td>Genesis 1:4</td>\n",
       "      <td>Genesis</td>\n",
       "      <td>1</td>\n",
       "      <td>4</td>\n",
       "      <td>And God saw the light, that it was good: and G...</td>\n",
       "    </tr>\n",
       "    <tr>\n",
       "      <th>4</th>\n",
       "      <td>Genesis 1:5</td>\n",
       "      <td>Genesis</td>\n",
       "      <td>1</td>\n",
       "      <td>5</td>\n",
       "      <td>And God called the light Day, and the darkness...</td>\n",
       "    </tr>\n",
       "  </tbody>\n",
       "</table>\n",
       "</div>"
      ],
      "text/plain": [
       "      citation     book  chapter  verse  \\\n",
       "0  Genesis 1:1  Genesis        1      1   \n",
       "1  Genesis 1:2  Genesis        1      2   \n",
       "2  Genesis 1:3  Genesis        1      3   \n",
       "3  Genesis 1:4  Genesis        1      4   \n",
       "4  Genesis 1:5  Genesis        1      5   \n",
       "\n",
       "                                                text  \n",
       "0  In the beginning God created the heaven and th...  \n",
       "1  And the earth was without form, and void; and ...  \n",
       "2  And God said, Let there be light: and there wa...  \n",
       "3  And God saw the light, that it was good: and G...  \n",
       "4  And God called the light Day, and the darkness...  "
      ]
     },
     "metadata": {},
     "output_type": "display_data"
    }
   ],
   "source": [
    "bible_df = pd.read_csv('../data/bible-verses-from-king-james-version.zip')\n",
    "display(bible_df.head())"
   ]
  },
  {
   "cell_type": "markdown",
   "metadata": {},
   "source": [
    "# Some simple functions"
   ]
  },
  {
   "cell_type": "code",
   "execution_count": 3,
   "metadata": {
    "collapsed": true
   },
   "outputs": [],
   "source": [
    "def character_counter(string):\n",
    "    \"\"\"\n",
    "    return the number of characters in a string\n",
    "    \"\"\"\n",
    "    return len(string)\n",
    "\n",
    "def word_counter(string):\n",
    "    \"\"\"\n",
    "    returns the number of words in a string\n",
    "    \"\"\"\n",
    "    return len(string.split())\n"
   ]
  },
  {
   "cell_type": "markdown",
   "metadata": {},
   "source": [
    "# Assess corpus size"
   ]
  },
  {
   "cell_type": "code",
   "execution_count": 4,
   "metadata": {},
   "outputs": [
    {
     "name": "stdout",
     "output_type": "stream",
     "text": [
      "Total books: 66\n",
      "Total chapters: 1189\n",
      "Total verses: 31102\n"
     ]
    }
   ],
   "source": [
    "# total books\n",
    "print(\"Total books:\", len(set(bible_df['book'])))\n",
    "\n",
    "# total chapters\n",
    "total_chapters = 0\n",
    "for book_name, book in bible_df.groupby('book', sort=False):\n",
    "    chapters = len(set(book['chapter']))\n",
    "    total_chapters += chapters\n",
    "print(\"Total chapters:\", total_chapters)\n",
    "\n",
    "# total verses\n",
    "print(\"Total verses:\",bible_df.shape[0])"
   ]
  },
  {
   "cell_type": "code",
   "execution_count": 5,
   "metadata": {},
   "outputs": [
    {
     "data": {
      "text/html": [
       "<div>\n",
       "<style>\n",
       "    .dataframe thead tr:only-child th {\n",
       "        text-align: right;\n",
       "    }\n",
       "\n",
       "    .dataframe thead th {\n",
       "        text-align: left;\n",
       "    }\n",
       "\n",
       "    .dataframe tbody tr th {\n",
       "        vertical-align: top;\n",
       "    }\n",
       "</style>\n",
       "<table border=\"1\" class=\"dataframe\">\n",
       "  <thead>\n",
       "    <tr style=\"text-align: right;\">\n",
       "      <th></th>\n",
       "      <th>book</th>\n",
       "      <th>chapter</th>\n",
       "      <th>chapter_words</th>\n",
       "      <th>chapter_characters</th>\n",
       "      <th>chapter_text</th>\n",
       "    </tr>\n",
       "  </thead>\n",
       "  <tbody>\n",
       "    <tr>\n",
       "      <th>0</th>\n",
       "      <td>Genesis</td>\n",
       "      <td>1</td>\n",
       "      <td>797</td>\n",
       "      <td>4117</td>\n",
       "      <td>In the beginning God created the heaven and th...</td>\n",
       "    </tr>\n",
       "    <tr>\n",
       "      <th>1</th>\n",
       "      <td>Genesis</td>\n",
       "      <td>2</td>\n",
       "      <td>632</td>\n",
       "      <td>3119</td>\n",
       "      <td>Thus the heavens and the earth were finished, ...</td>\n",
       "    </tr>\n",
       "    <tr>\n",
       "      <th>2</th>\n",
       "      <td>Genesis</td>\n",
       "      <td>3</td>\n",
       "      <td>695</td>\n",
       "      <td>3435</td>\n",
       "      <td>Now the serpent was more subtil than any beast...</td>\n",
       "    </tr>\n",
       "    <tr>\n",
       "      <th>3</th>\n",
       "      <td>Genesis</td>\n",
       "      <td>4</td>\n",
       "      <td>632</td>\n",
       "      <td>3235</td>\n",
       "      <td>And Adam knew Eve his wife; and she conceived,...</td>\n",
       "    </tr>\n",
       "    <tr>\n",
       "      <th>4</th>\n",
       "      <td>Genesis</td>\n",
       "      <td>5</td>\n",
       "      <td>505</td>\n",
       "      <td>2781</td>\n",
       "      <td>This is the book of the generations of Adam. I...</td>\n",
       "    </tr>\n",
       "  </tbody>\n",
       "</table>\n",
       "</div>"
      ],
      "text/plain": [
       "      book  chapter  chapter_words  chapter_characters  \\\n",
       "0  Genesis        1            797                4117   \n",
       "1  Genesis        2            632                3119   \n",
       "2  Genesis        3            695                3435   \n",
       "3  Genesis        4            632                3235   \n",
       "4  Genesis        5            505                2781   \n",
       "\n",
       "                                        chapter_text  \n",
       "0  In the beginning God created the heaven and th...  \n",
       "1  Thus the heavens and the earth were finished, ...  \n",
       "2  Now the serpent was more subtil than any beast...  \n",
       "3  And Adam knew Eve his wife; and she conceived,...  \n",
       "4  This is the book of the generations of Adam. I...  "
      ]
     },
     "metadata": {},
     "output_type": "display_data"
    }
   ],
   "source": [
    "chapter_dict = {'book':[], 'chapter':[], 'chapter_characters':[], 'chapter_words':[], 'chapter_text':[]}\n",
    "\n",
    "for book_name, book_df in bible_df.groupby('book', sort=False):\n",
    "    for chapter_name, chapter_df in book_df.groupby('chapter', sort=False):\n",
    "        chapter_text_0 = ' '.join(list(chapter_df['text']))\n",
    "        chapter_text_1 = chapter_text_0.replace('\\n','')\n",
    "        chapter_text = chapter_text_1.strip(' ')\n",
    "        # calculate character and word counts\n",
    "        char_count = character_counter(chapter_text)\n",
    "        word_count = word_counter(chapter_text)\n",
    "        # append information to dictionary at the chapter level\n",
    "        chapter_dict['book'].append(book_name)\n",
    "        chapter_dict['chapter'].append(chapter_name)\n",
    "        chapter_dict['chapter_characters'].append(char_count)\n",
    "        chapter_dict['chapter_words'].append(word_count)\n",
    "        chapter_dict['chapter_text'].append(chapter_text)\n",
    "        \n",
    "chapter_df = pd.DataFrame(chapter_dict)\n",
    "chapter_df = chapter_df[['book','chapter','chapter_words','chapter_characters','chapter_text']]\n",
    "display(chapter_df.head())"
   ]
  },
  {
   "cell_type": "code",
   "execution_count": 13,
   "metadata": {},
   "outputs": [
    {
     "name": "stdout",
     "output_type": "stream",
     "text": [
      "Counter({'Psalms': 150, 'Isaiah': 66, 'Jeremiah': 52, 'Genesis': 50, 'Ezekiel': 48, 'Job': 42, 'Exodus': 40, 'Numbers': 36, '2 Chronicles': 36, 'Deuteronomy': 34, '1 Samuel': 31, 'Proverbs': 31, '1 Chronicles': 29, 'Matthew': 28, 'Acts': 28, 'Leviticus': 27, '2 Kings': 25, 'Joshua': 24, '2 Samuel': 24, 'Luke': 24, '1 Kings': 22, 'Revelation': 22, 'Judges': 21, 'John': 21, 'Mark': 16, 'Romans': 16, '1 Corinthians': 16, 'Hosea': 14, 'Zechariah': 14, 'Nehemiah': 13, '2 Corinthians': 13, 'Hebrews': 13, 'Ecclesiastes': 12, 'Daniel': 12, 'Ezra': 10, 'Esther': 10, 'Amos': 9, 'Song of Solomon': 8, 'Micah': 7, 'Galatians': 6, 'Ephesians': 6, '1 Timothy': 6, 'Lamentations': 5, '1 Thessalonians': 5, 'James': 5, '1 Peter': 5, '1 John': 5, 'Ruth': 4, 'Jonah': 4, 'Malachi': 4, 'Philippians': 4, 'Colossians': 4, '2 Timothy': 4, 'Joel': 3, 'Nahum': 3, 'Habakkuk': 3, 'Zephaniah': 3, '2 Thessalonians': 3, 'Titus': 3, '2 Peter': 3, 'Haggai': 2, 'Obadiah': 1, 'Philemon': 1, '2 John': 1, '3 John': 1, 'Jude': 1})\n",
      "Counter({'Psalms': 150, 'Isaiah': 66, 'Jeremiah': 52, 'Genesis': 50, 'Ezekiel': 48, 'Job': 42, 'Exodus': 40, 'Numbers': 36, '2 Chronicles': 36, 'Deuteronomy': 34, '1 Samuel': 31, 'Proverbs': 31, '1 Chronicles': 29, 'Matthew': 28, 'Acts': 28, 'Leviticus': 27, '2 Kings': 25, 'Joshua': 24, '2 Samuel': 24, 'Luke': 24, '1 Kings': 22, 'Revelation': 22, 'Judges': 21, 'John': 21, 'Mark': 16, 'Romans': 16, '1 Corinthians': 16, 'Hosea': 14, 'Zechariah': 14, 'Nehemiah': 13, '2 Corinthians': 13, 'Hebrews': 13, 'Ecclesiastes': 12, 'Daniel': 12, 'Ezra': 10, 'Esther': 10, 'Amos': 9, 'Song of Songs': 8, 'Micah': 7, 'Galatians': 6, 'Ephesians': 6, '1 Timothy': 6, 'Lamentations': 5, '1 Thessalonians': 5, 'James': 5, '1 Peter': 5, '1 John': 5, 'Ruth': 4, 'Jonah': 4, 'Malachi': 4, 'Philippians': 4, 'Colossians': 4, '2 Timothy': 4, 'Joel': 3, 'Nahum': 3, 'Habakkuk': 3, 'Zephaniah': 3, '2 Thessalonians': 3, 'Titus': 3, '2 Peter': 3, 'Haggai': 2, 'Obadiah': 1, 'Philemon': 1, '2 John': 1, '3 John': 1, 'Jude': 1})\n"
     ]
    }
   ],
   "source": [
    "from collections import Counter\n",
    "print(Counter(chapter_df['book']))\n",
    "\n",
    "# REPLACE \"Song of Solomon\" WITH \"Song of Songs\"\n",
    "\n",
    "chapter_df.replace(\"Song of Solomon\", \"Song of Songs\", inplace=True)\n",
    "print(Counter(chapter_df['book']))"
   ]
  },
  {
   "cell_type": "code",
   "execution_count": 14,
   "metadata": {},
   "outputs": [
    {
     "data": {
      "image/png": "[encoded data removed]",
      "text/plain": [
       "<matplotlib.figure.Figure at 0x10a598b38>"
      ]
     },
     "metadata": {},
     "output_type": "display_data"
    }
   ],
   "source": [
    "fig,ax = plt.subplots(figsize=(7,4))\n",
    "ax.hist(chapter_df['chapter_characters'], bins=30)\n",
    "ax.axvline(x=140, ls='--', color='red')\n",
    "plt.show()"
   ]
  },
  {
   "cell_type": "code",
   "execution_count": 15,
   "metadata": {
    "collapsed": true
   },
   "outputs": [],
   "source": [
    "chapter_df.to_csv('../data//KJB_chapters.csv',index=False)"
   ]
  },
  {
   "cell_type": "markdown",
   "metadata": {},
   "source": [
    "# Create SQL database"
   ]
  },
  {
   "cell_type": "code",
   "execution_count": 8,
   "metadata": {
    "collapsed": true
   },
   "outputs": [],
   "source": [
    "#import sqlite3\n",
    "#import sqlalchemy\n",
    "\n",
    "#engine = sqlalchemy.create_engine('sqlite:///bible_db.sqlite')\n",
    "#chapter_df.to_sql('kjb_chapters', engine, if_exists='replace', index=False)"
   ]
  }
 ],
 "metadata": {
  "kernelspec": {
   "display_name": "Python 3",
   "language": "python",
   "name": "python3"
  },
  "language_info": {
   "codemirror_mode": {
    "name": "ipython",
    "version": 3
   },
   "file_extension": ".py",
   "mimetype": "text/x-python",
   "name": "python",
   "nbconvert_exporter": "python",
   "pygments_lexer": "ipython3",
   "version": "3.6.3"
  }
 },
 "nbformat": 4,
 "nbformat_minor": 2
}
