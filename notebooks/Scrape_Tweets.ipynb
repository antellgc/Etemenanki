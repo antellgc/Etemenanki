{
 "cells": [
  {
   "cell_type": "markdown",
   "metadata": {},
   "source": [
    "# Scrape Bible Summary Tweets\n",
    "\n",
    "This notebook scrapes all of the tweets from biblesummary.info, a website that contains tweet-length summaries of each chapter in the Bible as determined by a real human (in this case, his name is Chris Juby). This content was later adapted into a book entitled \"@BibleIntro - a Bible handbook for the Twitter generation\". "
   ]
  },
  {
   "cell_type": "markdown",
   "metadata": {},
   "source": [
    "# Import requirements"
   ]
  },
  {
   "cell_type": "code",
   "execution_count": 1,
   "metadata": {
    "collapsed": true
   },
   "outputs": [],
   "source": [
    "import pandas as pd\n",
    "import numpy as np\n",
    "import requests\n",
    "from bs4 import BeautifulSoup\n",
    "import sqlite3\n",
    "import sqlalchemy\n",
    "import matplotlib.pyplot as plt\n",
    "%matplotlib inline"
   ]
  },
  {
   "cell_type": "markdown",
   "metadata": {},
   "source": [
    "# Functions"
   ]
  },
  {
   "cell_type": "code",
   "execution_count": 2,
   "metadata": {
    "collapsed": true
   },
   "outputs": [],
   "source": [
    "def get_chapter_tweets(book_url):\n",
    "    \"\"\"\n",
    "    returns all tweets for a book\n",
    "    \"\"\"\n",
    "    page = requests.get(book_url)\n",
    "    soup = BeautifulSoup(page.content, 'html.parser')\n",
    "    chapter_list, tweet_list = [], []\n",
    "    ch_num = 1\n",
    "    for tag in soup.find_all(\"p\", class_=\"tweet_content\"):\n",
    "        raw_text = tag.text\n",
    "        label, split, new_text = raw_text.partition(': ')\n",
    "        chapter_list.append(ch_num)\n",
    "        ch_num += 1\n",
    "        tweet_list.append(str(new_text))\n",
    "    return chapter_list, tweet_list"
   ]
  },
  {
   "cell_type": "markdown",
   "metadata": {},
   "source": [
    "# Get book URLs"
   ]
  },
  {
   "cell_type": "code",
   "execution_count": 4,
   "metadata": {
    "collapsed": true
   },
   "outputs": [],
   "source": [
    "main_url = \"http://www.biblesummary.info\"\n",
    "page = requests.get(main_url)\n",
    "soup = BeautifulSoup(page.content, 'html.parser')\n",
    "\n",
    "# create book dictionary to store urls\n",
    "book_dict = {'book':[],'url':[]}\n",
    "for ultag in soup.find_all(\"ul\", class_=\"bible\"):\n",
    "    for litag in ultag.find_all(\"li\"):\n",
    "        for atag in litag.find_all(\"a\"):\n",
    "            book_dict['book'].append(atag.text)\n",
    "            book_dict['url'].append(main_url + atag['href'])"
   ]
  },
  {
   "cell_type": "markdown",
   "metadata": {},
   "source": [
    "# Get tweets for each chapter"
   ]
  },
  {
   "cell_type": "code",
   "execution_count": 10,
   "metadata": {},
   "outputs": [],
   "source": [
    "# create chapter dictionary to store summaries\n",
    "chapter_dict = {'book':[], 'chapter':[], 'tweet_text':[]}\n",
    "\n",
    "for book_info in zip(book_dict['book'], book_dict['url']):\n",
    "    book_name = str(book_info[0])\n",
    "    book_url = book_info[1]    \n",
    "    chapter_list, tweet_list = get_chapter_tweets(book_url)\n",
    "    chapter_dict['book'].extend([book_name]*len(chapter_list))\n",
    "    chapter_dict['chapter'].extend(chapter_list)\n",
    "    chapter_dict['tweet_text'].extend(tweet_list)\n",
    "\n",
    "chapter_tweet_df = pd.DataFrame(chapter_dict)"
   ]
  },
  {
   "cell_type": "code",
   "execution_count": 11,
   "metadata": {},
   "outputs": [
    {
     "name": "stdout",
     "output_type": "stream",
     "text": [
      "(1189, 3)\n"
     ]
    },
    {
     "data": {
      "text/html": [
       "<div>\n",
       "<style>\n",
       "    .dataframe thead tr:only-child th {\n",
       "        text-align: right;\n",
       "    }\n",
       "\n",
       "    .dataframe thead th {\n",
       "        text-align: left;\n",
       "    }\n",
       "\n",
       "    .dataframe tbody tr th {\n",
       "        vertical-align: top;\n",
       "    }\n",
       "</style>\n",
       "<table border=\"1\" class=\"dataframe\">\n",
       "  <thead>\n",
       "    <tr style=\"text-align: right;\">\n",
       "      <th></th>\n",
       "      <th>book</th>\n",
       "      <th>chapter</th>\n",
       "      <th>tweet_text</th>\n",
       "    </tr>\n",
       "  </thead>\n",
       "  <tbody>\n",
       "    <tr>\n",
       "      <th>0</th>\n",
       "      <td>Genesis</td>\n",
       "      <td>1</td>\n",
       "      <td>God created the heavens, the earth and everyth...</td>\n",
       "    </tr>\n",
       "    <tr>\n",
       "      <th>1</th>\n",
       "      <td>Genesis</td>\n",
       "      <td>2</td>\n",
       "      <td>God formed a man and gave him the garden in Ed...</td>\n",
       "    </tr>\n",
       "    <tr>\n",
       "      <th>2</th>\n",
       "      <td>Genesis</td>\n",
       "      <td>3</td>\n",
       "      <td>The serpent deceived the woman. She and Adam a...</td>\n",
       "    </tr>\n",
       "    <tr>\n",
       "      <th>3</th>\n",
       "      <td>Genesis</td>\n",
       "      <td>4</td>\n",
       "      <td>Eve's sons made offerings to the LORD. Only Ab...</td>\n",
       "    </tr>\n",
       "    <tr>\n",
       "      <th>4</th>\n",
       "      <td>Genesis</td>\n",
       "      <td>5</td>\n",
       "      <td>Adam's line was: Seth, Enosh, Kenan, Mahalalel...</td>\n",
       "    </tr>\n",
       "  </tbody>\n",
       "</table>\n",
       "</div>"
      ],
      "text/plain": [
       "      book  chapter                                         tweet_text\n",
       "0  Genesis        1  God created the heavens, the earth and everyth...\n",
       "1  Genesis        2  God formed a man and gave him the garden in Ed...\n",
       "2  Genesis        3  The serpent deceived the woman. She and Adam a...\n",
       "3  Genesis        4  Eve's sons made offerings to the LORD. Only Ab...\n",
       "4  Genesis        5  Adam's line was: Seth, Enosh, Kenan, Mahalalel..."
      ]
     },
     "execution_count": 11,
     "metadata": {},
     "output_type": "execute_result"
    }
   ],
   "source": [
    "print(chapter_tweet_df.shape)\n",
    "chapter_tweet_df.head()"
   ]
  },
  {
   "cell_type": "markdown",
   "metadata": {},
   "source": [
    "# Define helper functions"
   ]
  },
  {
   "cell_type": "code",
   "execution_count": 12,
   "metadata": {
    "collapsed": true
   },
   "outputs": [],
   "source": [
    "def character_counter(string):\n",
    "    \"\"\"\n",
    "    return the number of characters in a string\n",
    "    \"\"\"\n",
    "    return len(string)\n",
    "\n",
    "def word_counter(string):\n",
    "    \"\"\"\n",
    "    returns the number of words in a string\n",
    "    \"\"\"\n",
    "    return len(string.split())"
   ]
  },
  {
   "cell_type": "code",
   "execution_count": 17,
   "metadata": {},
   "outputs": [
    {
     "data": {
      "text/html": [
       "<div>\n",
       "<style>\n",
       "    .dataframe thead tr:only-child th {\n",
       "        text-align: right;\n",
       "    }\n",
       "\n",
       "    .dataframe thead th {\n",
       "        text-align: left;\n",
       "    }\n",
       "\n",
       "    .dataframe tbody tr th {\n",
       "        vertical-align: top;\n",
       "    }\n",
       "</style>\n",
       "<table border=\"1\" class=\"dataframe\">\n",
       "  <thead>\n",
       "    <tr style=\"text-align: right;\">\n",
       "      <th></th>\n",
       "      <th>book</th>\n",
       "      <th>chapter</th>\n",
       "      <th>tweet_words</th>\n",
       "      <th>tweet_characters</th>\n",
       "      <th>tweet_text</th>\n",
       "    </tr>\n",
       "  </thead>\n",
       "  <tbody>\n",
       "    <tr>\n",
       "      <th>0</th>\n",
       "      <td>Genesis</td>\n",
       "      <td>1</td>\n",
       "      <td>23</td>\n",
       "      <td>130</td>\n",
       "      <td>God created the heavens, the earth and everyth...</td>\n",
       "    </tr>\n",
       "    <tr>\n",
       "      <th>1</th>\n",
       "      <td>Genesis</td>\n",
       "      <td>2</td>\n",
       "      <td>29</td>\n",
       "      <td>134</td>\n",
       "      <td>God formed a man and gave him the garden in Ed...</td>\n",
       "    </tr>\n",
       "    <tr>\n",
       "      <th>2</th>\n",
       "      <td>Genesis</td>\n",
       "      <td>3</td>\n",
       "      <td>26</td>\n",
       "      <td>131</td>\n",
       "      <td>The serpent deceived the woman. She and Adam a...</td>\n",
       "    </tr>\n",
       "    <tr>\n",
       "      <th>3</th>\n",
       "      <td>Genesis</td>\n",
       "      <td>4</td>\n",
       "      <td>24</td>\n",
       "      <td>133</td>\n",
       "      <td>Eve's sons made offerings to the LORD. Only Ab...</td>\n",
       "    </tr>\n",
       "    <tr>\n",
       "      <th>4</th>\n",
       "      <td>Genesis</td>\n",
       "      <td>5</td>\n",
       "      <td>20</td>\n",
       "      <td>130</td>\n",
       "      <td>Adam's line was: Seth, Enosh, Kenan, Mahalalel...</td>\n",
       "    </tr>\n",
       "  </tbody>\n",
       "</table>\n",
       "</div>"
      ],
      "text/plain": [
       "      book  chapter  tweet_words  tweet_characters  \\\n",
       "0  Genesis        1           23               130   \n",
       "1  Genesis        2           29               134   \n",
       "2  Genesis        3           26               131   \n",
       "3  Genesis        4           24               133   \n",
       "4  Genesis        5           20               130   \n",
       "\n",
       "                                          tweet_text  \n",
       "0  God created the heavens, the earth and everyth...  \n",
       "1  God formed a man and gave him the garden in Ed...  \n",
       "2  The serpent deceived the woman. She and Adam a...  \n",
       "3  Eve's sons made offerings to the LORD. Only Ab...  \n",
       "4  Adam's line was: Seth, Enosh, Kenan, Mahalalel...  "
      ]
     },
     "metadata": {},
     "output_type": "display_data"
    }
   ],
   "source": [
    "chapter_tweet_df['tweet_words'] = chapter_tweet_df['tweet_text'].apply(word_counter)\n",
    "chapter_tweet_df['tweet_characters'] = chapter_tweet_df['tweet_text'].apply(character_counter)\n",
    "\n",
    "chapter_tweet_df = chapter_tweet_df[['book','chapter','tweet_words','tweet_characters','tweet_text']]\n",
    "display(chapter_tweet_df.head())"
   ]
  },
  {
   "cell_type": "markdown",
   "metadata": {},
   "source": [
    "# Save this dataframe"
   ]
  },
  {
   "cell_type": "code",
   "execution_count": 18,
   "metadata": {
    "collapsed": true
   },
   "outputs": [],
   "source": [
    "chapter_tweet_df.to_csv('../data/chapter_tweets.csv', index=False)"
   ]
  }
 ],
 "metadata": {
  "kernelspec": {
   "display_name": "Python 3",
   "language": "python",
   "name": "python3"
  },
  "language_info": {
   "codemirror_mode": {
    "name": "ipython",
    "version": 3
   },
   "file_extension": ".py",
   "mimetype": "text/x-python",
   "name": "python",
   "nbconvert_exporter": "python",
   "pygments_lexer": "ipython3",
   "version": "3.6.3"
  }
 },
 "nbformat": 4,
 "nbformat_minor": 2
}
