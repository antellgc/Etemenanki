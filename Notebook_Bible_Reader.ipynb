{
 "cells": [
  {
   "cell_type": "markdown",
   "metadata": {},
   "source": [
    "<h1>Bible Reader</h1>\n",
    "<p>Gregory Antell</p>\n",
    "<p>July 2017</p>"
   ]
  },
  {
   "cell_type": "markdown",
   "metadata": {},
   "source": [
    "# Import requirements"
   ]
  },
  {
   "cell_type": "code",
   "execution_count": 1,
   "metadata": {
    "collapsed": true
   },
   "outputs": [],
   "source": [
    "import pandas as pd\n",
    "import numpy as np\n",
    "import matplotlib.pyplot as plt\n",
    "%matplotlib inline"
   ]
  },
  {
   "cell_type": "markdown",
   "metadata": {},
   "source": [
    "# Read in Bible data"
   ]
  },
  {
   "cell_type": "code",
   "execution_count": 4,
   "metadata": {},
   "outputs": [
    {
     "data": {
      "text/html": [
       "<div>\n",
       "<table border=\"1\" class=\"dataframe\">\n",
       "  <thead>\n",
       "    <tr style=\"text-align: right;\">\n",
       "      <th></th>\n",
       "      <th>citation</th>\n",
       "      <th>book</th>\n",
       "      <th>chapter</th>\n",
       "      <th>verse</th>\n",
       "      <th>text</th>\n",
       "    </tr>\n",
       "  </thead>\n",
       "  <tbody>\n",
       "    <tr>\n",
       "      <th>0</th>\n",
       "      <td>Genesis 1:1</td>\n",
       "      <td>Genesis</td>\n",
       "      <td>1</td>\n",
       "      <td>1</td>\n",
       "      <td>In the beginning God created the heaven and th...</td>\n",
       "    </tr>\n",
       "    <tr>\n",
       "      <th>1</th>\n",
       "      <td>Genesis 1:2</td>\n",
       "      <td>Genesis</td>\n",
       "      <td>1</td>\n",
       "      <td>2</td>\n",
       "      <td>And the earth was without form, and void; and ...</td>\n",
       "    </tr>\n",
       "    <tr>\n",
       "      <th>2</th>\n",
       "      <td>Genesis 1:3</td>\n",
       "      <td>Genesis</td>\n",
       "      <td>1</td>\n",
       "      <td>3</td>\n",
       "      <td>And God said, Let there be light: and there wa...</td>\n",
       "    </tr>\n",
       "    <tr>\n",
       "      <th>3</th>\n",
       "      <td>Genesis 1:4</td>\n",
       "      <td>Genesis</td>\n",
       "      <td>1</td>\n",
       "      <td>4</td>\n",
       "      <td>And God saw the light, that it was good: and G...</td>\n",
       "    </tr>\n",
       "    <tr>\n",
       "      <th>4</th>\n",
       "      <td>Genesis 1:5</td>\n",
       "      <td>Genesis</td>\n",
       "      <td>1</td>\n",
       "      <td>5</td>\n",
       "      <td>And God called the light Day, and the darkness...</td>\n",
       "    </tr>\n",
       "  </tbody>\n",
       "</table>\n",
       "</div>"
      ],
      "text/plain": [
       "      citation     book  chapter  verse  \\\n",
       "0  Genesis 1:1  Genesis        1      1   \n",
       "1  Genesis 1:2  Genesis        1      2   \n",
       "2  Genesis 1:3  Genesis        1      3   \n",
       "3  Genesis 1:4  Genesis        1      4   \n",
       "4  Genesis 1:5  Genesis        1      5   \n",
       "\n",
       "                                                text  \n",
       "0  In the beginning God created the heaven and th...  \n",
       "1  And the earth was without form, and void; and ...  \n",
       "2  And God said, Let there be light: and there wa...  \n",
       "3  And God saw the light, that it was good: and G...  \n",
       "4  And God called the light Day, and the darkness...  "
      ]
     },
     "execution_count": 4,
     "metadata": {},
     "output_type": "execute_result"
    }
   ],
   "source": [
    "bible_df = pd.read_csv('./bible-verses-from-king-james-version.zip')\n",
    "bible_df.head()"
   ]
  },
  {
   "cell_type": "markdown",
   "metadata": {},
   "source": [
    "# Assess corpus size"
   ]
  },
  {
   "cell_type": "code",
   "execution_count": 5,
   "metadata": {
    "collapsed": true
   },
   "outputs": [],
   "source": [
    "def character_counter(string):\n",
    "    \"\"\"\n",
    "    return the number of characters in a string\n",
    "    \"\"\"\n",
    "    return len(string)\n",
    "\n",
    "def word_counter(string):\n",
    "    \"\"\"\n",
    "    returns the number of words in a string\n",
    "    \"\"\"\n",
    "    return len(string.split())\n"
   ]
  },
  {
   "cell_type": "code",
   "execution_count": 6,
   "metadata": {},
   "outputs": [
    {
     "name": "stdout",
     "output_type": "stream",
     "text": [
      "Total books: 66\n",
      "Total chapters: 1189\n",
      "Total verses: 31102\n"
     ]
    }
   ],
   "source": [
    "# total books\n",
    "print \"Total books:\", len(set(bible_df['book']))\n",
    "\n",
    "# total chapters\n",
    "total_chapters = 0\n",
    "for book_name, book in bible_df.groupby('book', sort=False):\n",
    "    chapters = len(set(book['chapter']))\n",
    "    total_chapters += chapters\n",
    "print \"Total chapters:\", total_chapters\n",
    "\n",
    "# total verses\n",
    "print \"Total verses:\",bible_df.shape[0]"
   ]
  },
  {
   "cell_type": "code",
   "execution_count": 12,
   "metadata": {},
   "outputs": [
    {
     "data": {
      "text/html": [
       "<div>\n",
       "<table border=\"1\" class=\"dataframe\">\n",
       "  <thead>\n",
       "    <tr style=\"text-align: right;\">\n",
       "      <th></th>\n",
       "      <th>book</th>\n",
       "      <th>chapter</th>\n",
       "      <th>char_count</th>\n",
       "      <th>text</th>\n",
       "      <th>word_count</th>\n",
       "    </tr>\n",
       "  </thead>\n",
       "  <tbody>\n",
       "    <tr>\n",
       "      <th>0</th>\n",
       "      <td>Genesis</td>\n",
       "      <td>1</td>\n",
       "      <td>4117</td>\n",
       "      <td>In the beginning God created the heaven and th...</td>\n",
       "      <td>797</td>\n",
       "    </tr>\n",
       "    <tr>\n",
       "      <th>1</th>\n",
       "      <td>Genesis</td>\n",
       "      <td>2</td>\n",
       "      <td>3119</td>\n",
       "      <td>Thus the heavens and the earth were finished, ...</td>\n",
       "      <td>632</td>\n",
       "    </tr>\n",
       "    <tr>\n",
       "      <th>2</th>\n",
       "      <td>Genesis</td>\n",
       "      <td>3</td>\n",
       "      <td>3435</td>\n",
       "      <td>Now the serpent was more subtil than any beast...</td>\n",
       "      <td>695</td>\n",
       "    </tr>\n",
       "    <tr>\n",
       "      <th>3</th>\n",
       "      <td>Genesis</td>\n",
       "      <td>4</td>\n",
       "      <td>3235</td>\n",
       "      <td>And Adam knew Eve his wife; and she conceived,...</td>\n",
       "      <td>632</td>\n",
       "    </tr>\n",
       "    <tr>\n",
       "      <th>4</th>\n",
       "      <td>Genesis</td>\n",
       "      <td>5</td>\n",
       "      <td>2781</td>\n",
       "      <td>This is the book of the generations of Adam. I...</td>\n",
       "      <td>505</td>\n",
       "    </tr>\n",
       "  </tbody>\n",
       "</table>\n",
       "</div>"
      ],
      "text/plain": [
       "      book  chapter  char_count  \\\n",
       "0  Genesis        1        4117   \n",
       "1  Genesis        2        3119   \n",
       "2  Genesis        3        3435   \n",
       "3  Genesis        4        3235   \n",
       "4  Genesis        5        2781   \n",
       "\n",
       "                                                text  word_count  \n",
       "0  In the beginning God created the heaven and th...         797  \n",
       "1  Thus the heavens and the earth were finished, ...         632  \n",
       "2  Now the serpent was more subtil than any beast...         695  \n",
       "3  And Adam knew Eve his wife; and she conceived,...         632  \n",
       "4  This is the book of the generations of Adam. I...         505  "
      ]
     },
     "execution_count": 12,
     "metadata": {},
     "output_type": "execute_result"
    }
   ],
   "source": [
    "chapter_dict = {'book':[], 'chapter':[], 'char_count':[], 'word_count':[], 'text':[]}\n",
    "\n",
    "for book_name, book_df in bible_df.groupby('book', sort=False):\n",
    "    for chapter_name, chapter_df in book_df.groupby('chapter', sort=False):\n",
    "        chapter_text_0 = ' '.join(list(chapter_df['text']))\n",
    "        chapter_text_1 = chapter_text_0.replace('\\n','')\n",
    "        chapter_text = chapter_text_1.strip(' ')\n",
    "        # calculate character and word counts\n",
    "        char_count = character_counter(chapter_text)\n",
    "        word_count = word_counter(chapter_text)\n",
    "        # append information to dictionary at the chapter level\n",
    "        chapter_dict['book'].append(book_name)\n",
    "        chapter_dict['chapter'].append(chapter_name)\n",
    "        chapter_dict['char_count'].append(char_count)\n",
    "        chapter_dict['word_count'].append(word_count)\n",
    "        chapter_dict['text'].append(chapter_text)\n",
    "        \n",
    "chapter_df = pd.DataFrame(chapter_dict)\n",
    "chapter_df.head()"
   ]
  },
  {
   "cell_type": "code",
   "execution_count": 14,
   "metadata": {},
   "outputs": [
    {
     "data": {
      "image/png": "[encoded data removed]",
      "text/plain": [
       "<matplotlib.figure.Figure at 0x1150a9a90>"
      ]
     },
     "metadata": {},
     "output_type": "display_data"
    }
   ],
   "source": [
    "fig,ax = plt.subplots(figsize=(7,4))\n",
    "ax.hist(chapter_df['char_count'], bins=30)\n",
    "ax.axvline(x=140, ls='--', color='red')\n",
    "plt.show()"
   ]
  },
  {
   "cell_type": "code",
   "execution_count": 18,
   "metadata": {
    "collapsed": true
   },
   "outputs": [],
   "source": [
    "chapter_df.to_csv('./KJB_chapters.csv',index=False)"
   ]
  }
 ],
 "metadata": {
  "kernelspec": {
   "display_name": "Python 2",
   "language": "python",
   "name": "python2"
  },
  "language_info": {
   "codemirror_mode": {
    "name": "ipython",
    "version": 2
   },
   "file_extension": ".py",
   "mimetype": "text/x-python",
   "name": "python",
   "nbconvert_exporter": "python",
   "pygments_lexer": "ipython2",
   "version": "2.7.12"
  }
 },
 "nbformat": 4,
 "nbformat_minor": 2
}
